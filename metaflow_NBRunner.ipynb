{
 "cells": [
  {
   "cell_type": "code",
   "execution_count": 5,
   "metadata": {},
   "outputs": [
    {
     "data": {
      "text/plain": [
       "'\\nCreated on 2024-07-18 09:44:51 Thursday\\n\\n@author: Nikhil Kapila\\n'"
      ]
     },
     "execution_count": 5,
     "metadata": {},
     "output_type": "execute_result"
    }
   ],
   "source": [
    "#!/usr/bin/env python3\n",
    "# -*- coding: utf-8 -*-\n",
    "\"\"\"\n",
    "Created on 2024-07-18 09:44:51 Thursday\n",
    "\n",
    "@author: Nikhil Kapila\n",
    "\"\"\""
   ]
  },
  {
   "cell_type": "code",
   "execution_count": 6,
   "metadata": {},
   "outputs": [
    {
     "data": {
      "text/plain": [
       "'/Users/nikhilkapila/Developer/lstm-training'"
      ]
     },
     "execution_count": 6,
     "metadata": {},
     "output_type": "execute_result"
    }
   ],
   "source": [
    "import os, re, io, contextlib, glob\n",
    "import pandas as pd\n",
    "# from metaflow import Flow\n",
    "from metaflow import Runner, Flow, Task\n",
    "os.getcwd()"
   ]
  },
  {
   "cell_type": "code",
   "execution_count": 7,
   "metadata": {},
   "outputs": [
    {
     "name": "stdout",
     "output_type": "stream",
     "text": [
      "README.md                    metaflow_NBRunner.ipynb\n",
      "\u001b[1m\u001b[36m__pycache__\u001b[m\u001b[m/                 \u001b[1m\u001b[36mmetaflow_models_30hrs\u001b[m\u001b[m/\n",
      "bgd_flow.py                  \u001b[1m\u001b[36mmetaflow_models_360hrs\u001b[m\u001b[m/\n",
      "\u001b[1m\u001b[36mclasses\u001b[m\u001b[m/                     \u001b[1m\u001b[36mmetaflow_models_360hrs copy\u001b[m\u001b[m/\n",
      "\u001b[1m\u001b[36mdatasets\u001b[m\u001b[m/\n"
     ]
    }
   ],
   "source": [
    "ls"
   ]
  },
  {
   "cell_type": "code",
   "execution_count": 8,
   "metadata": {},
   "outputs": [
    {
     "name": "stdout",
     "output_type": "stream",
     "text": [
      "_20240722_2252\n"
     ]
    }
   ],
   "source": [
    "print(pd.Timestamp.now().strftime('_%Y%m%d_%H%M'))"
   ]
  },
  {
   "cell_type": "code",
   "execution_count": 9,
   "metadata": {},
   "outputs": [
    {
     "name": "stdout",
     "output_type": "stream",
     "text": [
      "['bgd_Office_5001_10000.csv', 'bgd_Retail_100001_200000.csv', 'bgd_entertainment_public_assembly_25001_50000.csv', 'bgd_Parking_50001_100000.csv', 'bgd_Office_200001_500000.csv', 'bgd_entertainment_public_assembly_5001_10000.csv', 'bgd_Religious_worship_5001_10000.csv', 'bgd_Education_100001_200000.csv', 'bgd_Food_sales_service_10001_25000.csv', 'bgd_Education_1001_5000.csv', 'bgd_Retail_25001_50000.csv', 'bgd_entertainment_public_assembly_200001_500000.csv', 'bgd_entertainment_public_assembly_50001_100000.csv', 'bgd_warehouse_storage_10001_25000.csv', 'bgd_Healthcare_10001_25000.csv', 'bgd_warehouse_storage_200001_500000.csv', 'bgd_lodging_residential_1001_5000.csv', 'bgd_Healthcare_200001_500000.csv', 'bgd_Parking_200001_500000.csv', 'bgd_Office_25001_50000.csv', 'bgd_Other_5001_10000.csv', 'bgd_lodging_residential_100001_200000.csv', 'bgd_Other_1001_5000.csv', 'bgd_Education_10001_25000.csv', 'bgd_Public_services_50001_100000.csv', 'bgd_Public_services_10001_25000.csv', 'bgd_Public_services_100001_200000.csv', 'bgd_entertainment_public_assembly_100001_200000.csv', 'bgd_Education_50001_100000.csv', 'bgd_Healthcare_100001_200000.csv', 'bgd_Retail_10001_25000.csv', 'bgd_Office_50001_100000.csv', 'bgd_Office_1001_5000.csv', 'bgd_Utility_1001_5000.csv', 'bgd_lodging_residential_25001_50000.csv', 'bgd_Parking_100001_200000.csv', 'bgd_Retail_5001_10000.csv', 'bgd_lodging_residential_200001_500000.csv', 'bgd_technology_science_50001_100000.csv', 'bgd_entertainment_public_assembly_10001_25000.csv', 'bgd_Public_services_25001_50000.csv', 'bgd_Education_25001_50000.csv', 'bgd_Office_10001_25000.csv', 'bgd_Education_200001_500000.csv', 'bgd_Utility_10001_25000.csv', 'bgd_Office_100001_200000.csv', 'bgd_lodging_residential_50001_100000.csv', 'bgd_entertainment_public_assembly_1001_5000.csv', 'bgd_Healthcare_25001_50000.csv', 'bgd_Education_5001_10000.csv', 'bgd_Healthcare_5001_10000.csv']\n"
     ]
    }
   ],
   "source": [
    "datasets = 'datasets/building_genome_dataset/data_subsets'\n",
    "datasets = [f for f in os.listdir(datasets) \n",
    "              if os.path.isfile(os.path.join(datasets, f)) and f != '.DS_Store']\n",
    "print(datasets)"
   ]
  },
  {
   "cell_type": "code",
   "execution_count": 10,
   "metadata": {},
   "outputs": [
    {
     "name": "stdout",
     "output_type": "stream",
     "text": [
      "bgd_(?P<type>\\w+)_(?P<size>\\d+_\\d+).csv\n",
      "bgd_Office_5001_10000.csv\n",
      "Office\n",
      "5001_10000\n"
     ]
    }
   ],
   "source": [
    "dataset = 'bgd_Office_5001_10000.csv'\n",
    "pattern = r\"bgd_(?P<type>\\w+)_(?P<size>\\d+_\\d+).csv\"\n",
    "match = re.search(pattern, dataset)\n",
    "print(pattern)\n",
    "print(dataset)\n",
    "print(match.group('type'))\n",
    "print(match.group('size'))"
   ]
  },
  {
   "cell_type": "code",
   "execution_count": 11,
   "metadata": {},
   "outputs": [],
   "source": [
    "# types = ['Office', 'Retail', 'entertainment_public_assembly', 'Parking', 'Religious_worship', 'Education', 'Food_sales_service', 'warehouse_storage', 'Healthcare', 'lodging_residential', 'Other', 'Public_services', 'Utility', 'technology_science']\n",
    "# sizes = ['5001_10000', '100001_200000', '25001_50000', '50001_100000', '200001_500000', '10001_25000', '1001_5000']"
   ]
  },
  {
   "cell_type": "code",
   "execution_count": 12,
   "metadata": {},
   "outputs": [
    {
     "data": {
      "text/plain": [
       "'bgd_Office_5001_10000_LSTM'"
      ]
     },
     "execution_count": 12,
     "metadata": {},
     "output_type": "execute_result"
    }
   ],
   "source": [
    "path_dir = f'{dataset[:-4]}_LSTM'\n",
    "path_dir"
   ]
  },
  {
   "cell_type": "code",
   "execution_count": 13,
   "metadata": {},
   "outputs": [],
   "source": [
    "def check_if_run_is_completed(model_name:str, flow_name:str='BGD_LinearFlow'):\n",
    "    flow = Flow(flow_name)\n",
    "    for run in flow.runs():\n",
    "        if run.successful and run.data.model_name == model_name:\n",
    "            return run\n",
    "    return None"
   ]
  },
  {
   "cell_type": "code",
   "execution_count": 14,
   "metadata": {},
   "outputs": [
    {
     "name": "stdout",
     "output_type": "stream",
     "text": [
      "Run('BGD_LinearFlow/7')\n",
      "None\n"
     ]
    }
   ],
   "source": [
    "old_run = check_if_run_is_completed(model_name='bgd_education_1001_5000_LSTM')\n",
    "print(old_run)\n",
    "\n",
    "old_run_1 = check_if_run_is_completed(model_name='hahah')\n",
    "print(old_run_1)"
   ]
  },
  {
   "cell_type": "code",
   "execution_count": 15,
   "metadata": {},
   "outputs": [
    {
     "data": {
      "text/plain": [
       "19"
      ]
     },
     "execution_count": 15,
     "metadata": {},
     "output_type": "execute_result"
    }
   ],
   "source": [
    "num_of_models = 0\n",
    "\n",
    "for dataset in datasets:\n",
    "    match = re.search(pattern, dataset)\n",
    "    type = match.group('type')\n",
    "    size = match.group('size')\n",
    "    if type=='Office' or type=='Education' or type=='lodging_residential':\n",
    "        num_of_models = num_of_models + 1\n",
    "\n",
    "num_of_models"
   ]
  },
  {
   "cell_type": "code",
   "execution_count": 16,
   "metadata": {},
   "outputs": [],
   "source": [
    "def check_if_run_is_completed_dir_360(model_name:str, flow_name:str='BGD_LinearFlow'):\n",
    "    flow = Flow(flow_name)\n",
    "    for run in flow.runs():\n",
    "        if run.finished == True:\n",
    "            if run.data.dir == 'metaflow_models_360hrs':\n",
    "                return run\n",
    "    return None"
   ]
  },
  {
   "cell_type": "code",
   "execution_count": 17,
   "metadata": {},
   "outputs": [
    {
     "data": {
      "text/plain": [
       "'bgd_Healthcare_5001_10000_LSTM'"
      ]
     },
     "execution_count": 17,
     "metadata": {},
     "output_type": "execute_result"
    }
   ],
   "source": [
    "dataset[:-4]+'_LSTM'"
   ]
  },
  {
   "cell_type": "code",
   "execution_count": 18,
   "metadata": {},
   "outputs": [
    {
     "data": {
      "text/plain": [
       "['metaflow_models_360hrs/bgd_office_200001_500000_LSTM',\n",
       " 'metaflow_models_360hrs/bgd_office_5001_10000_LSTM']"
      ]
     },
     "execution_count": 18,
     "metadata": {},
     "output_type": "execute_result"
    }
   ],
   "source": [
    "folders = glob.glob('metaflow_models_360hrs/bgd_*_*_*_LSTM')\n",
    "folders"
   ]
  },
  {
   "cell_type": "code",
   "execution_count": 19,
   "metadata": {},
   "outputs": [
    {
     "name": "stdout",
     "output_type": "stream",
     "text": [
      "True\n",
      "metaflow_models_360hrs/bgd_office_200001_500000_LSTM\n"
     ]
    }
   ],
   "source": [
    "save_dir = 'metaflow_models_360hrs/'\n",
    "model_name = 'bgd_office_200001_500000_LSTM'\n",
    "\n",
    "if f'{save_dir}{model_name}' in folders: \n",
    "    print(True)\n",
    "    print(f'{save_dir}{model_name}')\n",
    "else: print('urmum')"
   ]
  },
  {
   "cell_type": "code",
   "execution_count": 20,
   "metadata": {},
   "outputs": [
    {
     "name": "stdout",
     "output_type": "stream",
     "text": [
      "Skipping execution because a successful run with model_name 'bgd_Office_5001_10000_LSTM' already exists.\n",
      "Skipping execution because a successful run with model_name 'bgd_Office_200001_500000_LSTM' already exists.\n",
      "Starting metaflow run for bgd_Education_100001_200000.csv\n",
      "Output saved as /Users/nikhilkapila/Developer/lstm-training/metaflow_models_360hrs/bgd_Education_100001_200000_LSTM/output.txt\n",
      "Starting metaflow run for bgd_Education_1001_5000.csv\n",
      "Output saved as /Users/nikhilkapila/Developer/lstm-training/metaflow_models_360hrs/bgd_Education_1001_5000_LSTM/output.txt\n",
      "Starting metaflow run for bgd_lodging_residential_1001_5000.csv\n",
      "Output saved as /Users/nikhilkapila/Developer/lstm-training/metaflow_models_360hrs/bgd_lodging_residential_1001_5000_LSTM/output.txt\n",
      "Starting metaflow run for bgd_Office_25001_50000.csv\n",
      "Output saved as /Users/nikhilkapila/Developer/lstm-training/metaflow_models_360hrs/bgd_Office_25001_50000_LSTM/output.txt\n",
      "Starting metaflow run for bgd_lodging_residential_100001_200000.csv\n",
      "Output saved as /Users/nikhilkapila/Developer/lstm-training/metaflow_models_360hrs/bgd_lodging_residential_100001_200000_LSTM/output.txt\n",
      "Starting metaflow run for bgd_Education_10001_25000.csv\n",
      "Output saved as /Users/nikhilkapila/Developer/lstm-training/metaflow_models_360hrs/bgd_Education_10001_25000_LSTM/output.txt\n",
      "Starting metaflow run for bgd_Education_50001_100000.csv\n",
      "Output saved as /Users/nikhilkapila/Developer/lstm-training/metaflow_models_360hrs/bgd_Education_50001_100000_LSTM/output.txt\n",
      "Starting metaflow run for bgd_Office_50001_100000.csv\n",
      "Output saved as /Users/nikhilkapila/Developer/lstm-training/metaflow_models_360hrs/bgd_Office_50001_100000_LSTM/output.txt\n",
      "Starting metaflow run for bgd_Office_1001_5000.csv\n",
      "Output saved as /Users/nikhilkapila/Developer/lstm-training/metaflow_models_360hrs/bgd_Office_1001_5000_LSTM/output.txt\n",
      "Starting metaflow run for bgd_lodging_residential_25001_50000.csv\n",
      "Output saved as /Users/nikhilkapila/Developer/lstm-training/metaflow_models_360hrs/bgd_lodging_residential_25001_50000_LSTM/output.txt\n",
      "Starting metaflow run for bgd_lodging_residential_200001_500000.csv\n",
      "Output saved as /Users/nikhilkapila/Developer/lstm-training/metaflow_models_360hrs/bgd_lodging_residential_200001_500000_LSTM/output.txt\n",
      "Starting metaflow run for bgd_Education_25001_50000.csv\n",
      "Output saved as /Users/nikhilkapila/Developer/lstm-training/metaflow_models_360hrs/bgd_Education_25001_50000_LSTM/output.txt\n",
      "Starting metaflow run for bgd_Office_10001_25000.csv\n",
      "Output saved as /Users/nikhilkapila/Developer/lstm-training/metaflow_models_360hrs/bgd_Office_10001_25000_LSTM/output.txt\n",
      "Starting metaflow run for bgd_Education_200001_500000.csv\n",
      "Output saved as /Users/nikhilkapila/Developer/lstm-training/metaflow_models_360hrs/bgd_Education_200001_500000_LSTM/output.txt\n",
      "Starting metaflow run for bgd_Office_100001_200000.csv\n",
      "Output saved as /Users/nikhilkapila/Developer/lstm-training/metaflow_models_360hrs/bgd_Office_100001_200000_LSTM/output.txt\n",
      "Starting metaflow run for bgd_lodging_residential_50001_100000.csv\n",
      "Output saved as /Users/nikhilkapila/Developer/lstm-training/metaflow_models_360hrs/bgd_lodging_residential_50001_100000_LSTM/output.txt\n",
      "Starting metaflow run for bgd_Education_5001_10000.csv\n",
      "Output saved as /Users/nikhilkapila/Developer/lstm-training/metaflow_models_360hrs/bgd_Education_5001_10000_LSTM/output.txt\n"
     ]
    }
   ],
   "source": [
    "# building_types, size_ranges = [], []\n",
    "pattern = r\"bgd_(?P<type>\\w+)_(?P<size>\\d+_\\d+).csv\"\n",
    "lookback = 360\n",
    "save_dir = 'metaflow_models_360hrs/'\n",
    "folders = glob.glob(f'{save_dir}bgd_*_*_*_LSTM')\n",
    "\n",
    "for dataset in datasets:\n",
    "    skip_flag = 10\n",
    "    match = re.search(pattern, dataset)\n",
    "    type = match.group('type')\n",
    "    size = match.group('size')\n",
    "    if type=='Office' or type=='Education' or type=='lodging_residential':\n",
    "        # if type not in building_types: building_types.append(type)\n",
    "        # if size not in size_ranges: size_ranges.append(size)\n",
    "        flow_tag = f\"{type}_{size}_{pd.Timestamp.now().strftime('%Y%m_%H%M')}\"\n",
    "        fpath = f'/Users/nikhilkapila/Developer/lstm-training/datasets/building_genome_dataset/data_subsets/{dataset}'\n",
    "        model_name = f'{dataset[:-4]}_LSTM'\n",
    "        folder_check = f'{save_dir}{model_name}'\n",
    "        # fpath = f'/datasets/building_genome_dataset/data_subsets/{dataset}'\n",
    "        outputfilename = f'/Users/nikhilkapila/Developer/lstm-training/{save_dir}{dataset[:-4]}_LSTM/output.txt'\n",
    "\n",
    "        for folder in folders:\n",
    "            if folder_check.lower() == folder.lower(): skip_flag = 20\n",
    "\n",
    "        if skip_flag == 20:\n",
    "            print(f\"Skipping execution because a successful run with model_name '{model_name}' already exists.\")\n",
    "        elif skip_flag == 10:\n",
    "            print(f'Starting metaflow run for {dataset}')\n",
    "            f = io.StringIO()\n",
    "            with contextlib.redirect_stdout(f):\n",
    "                with Runner('bgd_flow.py', pylint=False).run(tags=[flow_tag], filepath=fpath, lookback=lookback, dir=save_dir) as running:\n",
    "                    if running.status == 'failed':\n",
    "                        print(f'❌ {running.run} failed:')\n",
    "                    elif running.status == 'successful':\n",
    "                        print(f'✅ {running.run} succeeded:')\n",
    "                    print(f'-- stdout --\\n{running.stdout}')\n",
    "                    print(f'-- stderr --\\n{running.stderr}')\n",
    "                            \n",
    "            with open(outputfilename, 'w') as file:\n",
    "                file.write(f.getvalue())\n",
    "            print(f'Output saved as {outputfilename}')\n",
    "            f.truncate(0)\n",
    "            f.seek(0)"
   ]
  }
 ],
 "metadata": {
  "kernelspec": {
   "display_name": "8903env",
   "language": "python",
   "name": "python3"
  },
  "language_info": {
   "codemirror_mode": {
    "name": "ipython",
    "version": 3
   },
   "file_extension": ".py",
   "mimetype": "text/x-python",
   "name": "python",
   "nbconvert_exporter": "python",
   "pygments_lexer": "ipython3",
   "version": "3.10.9"
  }
 },
 "nbformat": 4,
 "nbformat_minor": 2
}
